{
 "cells": [
  {
   "cell_type": "code",
   "execution_count": null,
   "id": "35a33a7d-d813-4618-bba8-34ec74f3b9e9",
   "metadata": {},
   "outputs": [],
   "source": [
    "Introduction to numbers:"
   ]
  },
  {
   "cell_type": "code",
   "execution_count": 1,
   "id": "dcc5657f-507a-46f0-8c72-6fb3816b9800",
   "metadata": {},
   "outputs": [
    {
     "name": "stdout",
     "output_type": "stream",
     "text": [
      "123\n"
     ]
    }
   ],
   "source": [
    "number = 123\n",
    "print (number)"
   ]
  },
  {
   "cell_type": "code",
   "execution_count": 2,
   "id": "f034062e-695d-45bd-b5ab-9678def9dd0a",
   "metadata": {},
   "outputs": [
    {
     "data": {
      "text/plain": [
       "int"
      ]
     },
     "execution_count": 2,
     "metadata": {},
     "output_type": "execute_result"
    }
   ],
   "source": [
    "type(number)"
   ]
  },
  {
   "cell_type": "code",
   "execution_count": 3,
   "id": "6cf2d8e8-ba25-46eb-af49-cfa3119420dc",
   "metadata": {},
   "outputs": [
    {
     "name": "stdout",
     "output_type": "stream",
     "text": [
      "0.1\n"
     ]
    }
   ],
   "source": [
    "num2 = 0.1\n",
    "print (num2)"
   ]
  },
  {
   "cell_type": "code",
   "execution_count": 4,
   "id": "46134fe0-373d-43e5-84da-b448906be4fd",
   "metadata": {},
   "outputs": [
    {
     "data": {
      "text/plain": [
       "float"
      ]
     },
     "execution_count": 4,
     "metadata": {},
     "output_type": "execute_result"
    }
   ],
   "source": [
    "type(num2)"
   ]
  },
  {
   "cell_type": "code",
   "execution_count": null,
   "id": "57917564-0c71-47b9-a620-0f6abc166d6f",
   "metadata": {},
   "outputs": [],
   "source": [
    "Introduction to list dataype:\n",
    "definition :  A list is a collection of items defined in a particular order\n",
    "classification : it is classfied as mutable datatype, which we can edit/alter"
   ]
  },
  {
   "cell_type": "code",
   "execution_count": null,
   "id": "ad17af4d-3c57-4500-a24d-9aba1369b661",
   "metadata": {},
   "outputs": [],
   "source": [
    "how to define list data type: []  # square brackets"
   ]
  },
  {
   "cell_type": "code",
   "execution_count": 10,
   "id": "94d6823f-cb34-46c0-8d92-3a0879076ae0",
   "metadata": {},
   "outputs": [],
   "source": [
    "students = ['alice','bob','charlie','darwin','elsa']"
   ]
  },
  {
   "cell_type": "code",
   "execution_count": 11,
   "id": "681d7335-9774-4231-8d6d-5ddeb5a00af9",
   "metadata": {},
   "outputs": [
    {
     "name": "stdout",
     "output_type": "stream",
     "text": [
      "['alice', 'bob', 'charlie', 'darwin', 'elsa']\n"
     ]
    }
   ],
   "source": [
    "print (students)"
   ]
  },
  {
   "cell_type": "code",
   "execution_count": 12,
   "id": "bc39cb7d-12e9-47bd-bdd1-d744b9107805",
   "metadata": {},
   "outputs": [
    {
     "data": {
      "text/plain": [
       "list"
      ]
     },
     "execution_count": 12,
     "metadata": {},
     "output_type": "execute_result"
    }
   ],
   "source": [
    "type (students)"
   ]
  },
  {
   "cell_type": "code",
   "execution_count": null,
   "id": "3c1f8916-a8a8-401d-ad7f-9948edb610f7",
   "metadata": {},
   "outputs": [],
   "source": [
    "Introduction to indexing:\n",
    "0,1,2,3,4,......."
   ]
  },
  {
   "cell_type": "code",
   "execution_count": 13,
   "id": "f23267c2-7d76-4e3d-a812-ff7b78241622",
   "metadata": {},
   "outputs": [
    {
     "name": "stdout",
     "output_type": "stream",
     "text": [
      "bob\n"
     ]
    }
   ],
   "source": [
    "# print Bob\n",
    "print (students[1])"
   ]
  },
  {
   "cell_type": "code",
   "execution_count": 14,
   "id": "b5c22b54-7388-420a-b06d-ee97065cf314",
   "metadata": {},
   "outputs": [
    {
     "name": "stdout",
     "output_type": "stream",
     "text": [
      "Bob\n"
     ]
    }
   ],
   "source": [
    "print (students[1].title())"
   ]
  },
  {
   "cell_type": "code",
   "execution_count": 16,
   "id": "1b0592be-9547-4d2d-8313-cedb3ad7858d",
   "metadata": {},
   "outputs": [
    {
     "name": "stdout",
     "output_type": "stream",
     "text": [
      "darwin\n"
     ]
    }
   ],
   "source": [
    " # print darwin\n",
    "print (students[3])"
   ]
  },
  {
   "cell_type": "code",
   "execution_count": 17,
   "id": "898da07d-82a0-4893-8d3f-b2a0a4810f47",
   "metadata": {},
   "outputs": [
    {
     "name": "stdout",
     "output_type": "stream",
     "text": [
      "Darwin\n"
     ]
    }
   ],
   "source": [
    "print (students[3].title())"
   ]
  },
  {
   "cell_type": "code",
   "execution_count": null,
   "id": "18f04ff5-e8fe-45f9-813a-71fbea9eccf6",
   "metadata": {},
   "outputs": [],
   "source": [
    "To add new elements in the list:"
   ]
  },
  {
   "cell_type": "code",
   "execution_count": 18,
   "id": "0fb03b84-2fe9-454a-8371-80eb982f404d",
   "metadata": {},
   "outputs": [
    {
     "name": "stdout",
     "output_type": "stream",
     "text": [
      "['alice', 'bob', 'charlie', 'darwin', 'elsa']\n"
     ]
    }
   ],
   "source": [
    "print (students)"
   ]
  },
  {
   "cell_type": "code",
   "execution_count": 19,
   "id": "91695199-34e4-42a5-bda2-564c0d1f99c7",
   "metadata": {},
   "outputs": [
    {
     "name": "stdout",
     "output_type": "stream",
     "text": [
      "['alice', 'bob', 'charlie', 'darwin', 'elsa', 'john']\n"
     ]
    }
   ],
   "source": [
    "# add john in the list\n",
    "students.append ('john')\n",
    "print (students)"
   ]
  },
  {
   "cell_type": "code",
   "execution_count": 20,
   "id": "1da83f2a-09b1-47e6-a3ae-d86005e5ae9b",
   "metadata": {},
   "outputs": [
    {
     "name": "stdout",
     "output_type": "stream",
     "text": [
      "['alice', 'bob', 'charlie', 'darwin', 'elsa', 'john', 'mary']\n"
     ]
    }
   ],
   "source": [
    "# add Mary in the list\n",
    "students.append ('mary')\n",
    "print (students)"
   ]
  },
  {
   "cell_type": "code",
   "execution_count": 21,
   "id": "29667ae4-f5e3-4742-9e54-99da9e30427c",
   "metadata": {},
   "outputs": [
    {
     "name": "stdout",
     "output_type": "stream",
     "text": [
      "['alice', 'bob', 'kattie', 'charlie', 'darwin', 'elsa', 'john', 'mary']\n"
     ]
    }
   ],
   "source": [
    "# to add Kattie at 2nd index position\n",
    "students.insert (2,'kattie')\n",
    "print (students)"
   ]
  },
  {
   "cell_type": "code",
   "execution_count": 22,
   "id": "9810d391-ca5f-4254-825f-02db07d221f8",
   "metadata": {},
   "outputs": [
    {
     "name": "stdout",
     "output_type": "stream",
     "text": [
      "kattie\n"
     ]
    }
   ],
   "source": [
    "print (students [2])"
   ]
  },
  {
   "cell_type": "code",
   "execution_count": null,
   "id": "1684e0b8-f7b1-4ab4-a034-92ed49a95a2c",
   "metadata": {},
   "outputs": [],
   "source": [
    "What is the difference between append and insert methods in a list dataype:\n",
    "append add elements at the end of the list\n",
    "insert add elements at the specified index position"
   ]
  },
  {
   "cell_type": "code",
   "execution_count": null,
   "id": "2aaacd1d-5005-4942-be5f-9688234bd8f3",
   "metadata": {},
   "outputs": [],
   "source": [
    "To modify bob name and replace with Sam in the list:"
   ]
  },
  {
   "cell_type": "code",
   "execution_count": 23,
   "id": "b3cd3e03-3295-45f5-bad5-eb511f1cd295",
   "metadata": {},
   "outputs": [
    {
     "name": "stdout",
     "output_type": "stream",
     "text": [
      "['alice', 'sam', 'kattie', 'charlie', 'darwin', 'elsa', 'john', 'mary']\n"
     ]
    }
   ],
   "source": [
    "students [1]  = 'sam'\n",
    "print (students)"
   ]
  },
  {
   "cell_type": "code",
   "execution_count": null,
   "id": "c43fb86f-6fbc-44e3-a710-d8dcf4df65e4",
   "metadata": {},
   "outputs": [],
   "source": [
    "To delete charlie name from the list:"
   ]
  },
  {
   "cell_type": "code",
   "execution_count": 24,
   "id": "6ec8e64b-9d47-4dba-a421-c1db5595becc",
   "metadata": {},
   "outputs": [
    {
     "name": "stdout",
     "output_type": "stream",
     "text": [
      "['alice', 'sam', 'kattie', 'darwin', 'elsa', 'john', 'mary']\n"
     ]
    }
   ],
   "source": [
    "del (students[3])\n",
    "print (students)"
   ]
  }
 ],
 "metadata": {
  "kernelspec": {
   "display_name": "Python [conda env:base] *",
   "language": "python",
   "name": "conda-base-py"
  },
  "language_info": {
   "codemirror_mode": {
    "name": "ipython",
    "version": 3
   },
   "file_extension": ".py",
   "mimetype": "text/x-python",
   "name": "python",
   "nbconvert_exporter": "python",
   "pygments_lexer": "ipython3",
   "version": "3.13.5"
  }
 },
 "nbformat": 4,
 "nbformat_minor": 5
}
