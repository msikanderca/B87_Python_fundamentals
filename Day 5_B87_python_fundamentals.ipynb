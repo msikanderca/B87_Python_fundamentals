{
 "cells": [
  {
   "cell_type": "code",
   "execution_count": null,
   "id": "50ae2e7d-0944-4829-a20c-afe856bc2f44",
   "metadata": {},
   "outputs": [],
   "source": [
    "continuation to list datatype:"
   ]
  },
  {
   "cell_type": "code",
   "execution_count": null,
   "id": "3e235fb0-46e2-4d52-a5de-480942bd3f93",
   "metadata": {},
   "outputs": [],
   "source": [
    "organizing list datatypes:"
   ]
  },
  {
   "cell_type": "code",
   "execution_count": 1,
   "id": "63a31ee6-f062-4fc2-ac6e-7f722be9ac24",
   "metadata": {},
   "outputs": [],
   "source": [
    "cars =['bmw','audi','benz','toyota','tata','suzuki']"
   ]
  },
  {
   "cell_type": "code",
   "execution_count": 2,
   "id": "377dd789-c3c4-46e1-8ad0-7bb626f08e8f",
   "metadata": {},
   "outputs": [
    {
     "name": "stdout",
     "output_type": "stream",
     "text": [
      "['bmw', 'audi', 'benz', 'toyota', 'tata', 'suzuki']\n"
     ]
    }
   ],
   "source": [
    "print (cars)"
   ]
  },
  {
   "cell_type": "code",
   "execution_count": 3,
   "id": "325ab107-1d02-4ed9-be18-7a2d05460e7c",
   "metadata": {},
   "outputs": [
    {
     "data": {
      "text/plain": [
       "list"
      ]
     },
     "execution_count": 3,
     "metadata": {},
     "output_type": "execute_result"
    }
   ],
   "source": [
    "type(cars)"
   ]
  },
  {
   "cell_type": "code",
   "execution_count": null,
   "id": "51899fed-1e3e-48fd-bf20-e78234638404",
   "metadata": {},
   "outputs": [],
   "source": [
    "# to arrange list in alpabetical order:\n",
    "there are 2 approaches:\n",
    "1. temporary ---- sorted method ----- orginial order is retained\n",
    "2. permament ------ sort method"
   ]
  },
  {
   "cell_type": "code",
   "execution_count": 6,
   "id": "08784bc1-3669-465a-b84e-aae176b2d818",
   "metadata": {},
   "outputs": [
    {
     "name": "stdout",
     "output_type": "stream",
     "text": [
      "['audi', 'benz', 'bmw', 'suzuki', 'tata', 'toyota']\n"
     ]
    }
   ],
   "source": [
    "print (sorted (cars))"
   ]
  },
  {
   "cell_type": "code",
   "execution_count": 8,
   "id": "defae527-a836-4362-bb7a-a72d564ae48f",
   "metadata": {},
   "outputs": [
    {
     "name": "stdout",
     "output_type": "stream",
     "text": [
      "['bmw', 'audi', 'benz', 'toyota', 'tata', 'suzuki']\n"
     ]
    }
   ],
   "source": [
    "print (cars)  # original order"
   ]
  },
  {
   "cell_type": "code",
   "execution_count": 9,
   "id": "c28a1c15-6639-4e65-ac10-b951d594ab9e",
   "metadata": {},
   "outputs": [],
   "source": [
    "cars.sort()"
   ]
  },
  {
   "cell_type": "code",
   "execution_count": 10,
   "id": "5fec88d7-65d4-4beb-a5b3-71c9fe3fa320",
   "metadata": {},
   "outputs": [
    {
     "name": "stdout",
     "output_type": "stream",
     "text": [
      "['audi', 'benz', 'bmw', 'suzuki', 'tata', 'toyota']\n"
     ]
    }
   ],
   "source": [
    "print (cars)"
   ]
  },
  {
   "cell_type": "code",
   "execution_count": 11,
   "id": "852ced62-c55a-4098-baa6-c92ebd21824e",
   "metadata": {},
   "outputs": [
    {
     "name": "stdout",
     "output_type": "stream",
     "text": [
      "['audi', 'benz', 'bmw', 'suzuki', 'tata', 'toyota']\n"
     ]
    }
   ],
   "source": [
    "print (cars)"
   ]
  },
  {
   "cell_type": "code",
   "execution_count": null,
   "id": "c90c96ba-6736-44dd-9823-5ddfe25d54e5",
   "metadata": {},
   "outputs": [],
   "source": [
    "Difference between sort and sorted method in list datatype :\n",
    "sort changes the order permenantly\n",
    "sorted changes the order only for run time.. not permenant"
   ]
  },
  {
   "cell_type": "code",
   "execution_count": 12,
   "id": "9e3c7f0e-fff2-4626-a777-412cace521ff",
   "metadata": {},
   "outputs": [
    {
     "data": {
      "text/plain": [
       "6"
      ]
     },
     "execution_count": 12,
     "metadata": {},
     "output_type": "execute_result"
    }
   ],
   "source": [
    "len (cars) # count no of elements in list"
   ]
  },
  {
   "cell_type": "code",
   "execution_count": 14,
   "id": "d61f4cfe-5f50-4ef0-a5e7-5ecd3710578d",
   "metadata": {},
   "outputs": [
    {
     "name": "stdout",
     "output_type": "stream",
     "text": [
      "['audi', 'benz', 'bmw', 'suzuki', 'tata', 'toyota']\n"
     ]
    }
   ],
   "source": [
    "cars.reverse() # print list in reverse order\n",
    "print (cars)"
   ]
  },
  {
   "cell_type": "code",
   "execution_count": null,
   "id": "08c9a2d8-0df5-4b3e-b99d-837cf6849b0e",
   "metadata": {},
   "outputs": [],
   "source": [
    "Introducction to slicing:"
   ]
  },
  {
   "cell_type": "code",
   "execution_count": 16,
   "id": "bfc2fa69-5150-4fe8-99a0-727721a8e6d1",
   "metadata": {},
   "outputs": [
    {
     "name": "stdout",
     "output_type": "stream",
     "text": [
      "['alice', 'angel', 'bob', 'carlie', 'darwin', 'else']\n"
     ]
    }
   ],
   "source": [
    "students = ['alice','angel','bob','carlie','darwin','else']\n",
    "print (students)"
   ]
  },
  {
   "cell_type": "code",
   "execution_count": null,
   "id": "b718ce51-21da-434a-875b-59553fa91406",
   "metadata": {},
   "outputs": [],
   "source": [
    "# general syntax for slicing -----> [start_value:stop_value:step_count]\n",
    "# note: stop is always exclusive, to include the stop value increment index by +1 "
   ]
  },
  {
   "cell_type": "code",
   "execution_count": 17,
   "id": "9dba2020-5a8f-46e9-ab3a-15bf1a30a94d",
   "metadata": {},
   "outputs": [
    {
     "name": "stdout",
     "output_type": "stream",
     "text": [
      "['alice']\n"
     ]
    }
   ],
   "source": [
    "print (students[0:1])  # 1st value will be displayed"
   ]
  },
  {
   "cell_type": "code",
   "execution_count": 18,
   "id": "d051789a-c978-4cf0-97f1-c19d172eb507",
   "metadata": {},
   "outputs": [
    {
     "name": "stdout",
     "output_type": "stream",
     "text": [
      "['alice', 'angel']\n"
     ]
    }
   ],
   "source": [
    "print (students[0:2])  # 2 values will be displayed"
   ]
  },
  {
   "cell_type": "code",
   "execution_count": 19,
   "id": "2ddb0401-36c3-4277-abfc-3c96daca71a6",
   "metadata": {},
   "outputs": [
    {
     "name": "stdout",
     "output_type": "stream",
     "text": [
      "['bob', 'carlie']\n"
     ]
    }
   ],
   "source": [
    "print (students[2:4])  # bob and carlie"
   ]
  },
  {
   "cell_type": "code",
   "execution_count": 21,
   "id": "92dbc626-c4ac-4c9f-8485-880c50620e95",
   "metadata": {},
   "outputs": [
    {
     "name": "stdout",
     "output_type": "stream",
     "text": [
      "['alice', 'bob', 'darwin']\n"
     ]
    }
   ],
   "source": [
    "print (students[0:7:2])  # alternate value will be displayed as step_count is 2 assigned"
   ]
  },
  {
   "cell_type": "code",
   "execution_count": 22,
   "id": "1a89465e-e4f7-4bdf-91c0-309e360e9422",
   "metadata": {},
   "outputs": [
    {
     "name": "stdout",
     "output_type": "stream",
     "text": [
      "['alice', 'angel', 'bob', 'carlie', 'darwin', 'else']\n"
     ]
    }
   ],
   "source": [
    "print (students)"
   ]
  },
  {
   "cell_type": "code",
   "execution_count": null,
   "id": "ab0498a3-19dd-4dbf-8345-ff84dc10c937",
   "metadata": {},
   "outputs": [],
   "source": [
    "Introduction to tuple datatype:\n",
    "Definition : An immutable list is called tuple\n",
    "classification : it is classified as immutable datatype\n",
    "to define tuple - use --> ()\n"
   ]
  },
  {
   "cell_type": "code",
   "execution_count": 24,
   "id": "d7f70851-98e4-4ddd-9db1-e3b3cf562bd7",
   "metadata": {},
   "outputs": [
    {
     "name": "stdout",
     "output_type": "stream",
     "text": [
      "(10, 20)\n"
     ]
    }
   ],
   "source": [
    "dimension =(10,20)\n",
    "print (dimension)"
   ]
  },
  {
   "cell_type": "code",
   "execution_count": 25,
   "id": "282910f8-3687-4274-927f-969ae34ff795",
   "metadata": {},
   "outputs": [
    {
     "data": {
      "text/plain": [
       "tuple"
      ]
     },
     "execution_count": 25,
     "metadata": {},
     "output_type": "execute_result"
    }
   ],
   "source": [
    "type(dimension)"
   ]
  },
  {
   "cell_type": "code",
   "execution_count": 27,
   "id": "9092b08f-21a3-4885-bd81-baf262ad4a93",
   "metadata": {},
   "outputs": [
    {
     "ename": "TypeError",
     "evalue": "'tuple' object does not support item assignment",
     "output_type": "error",
     "traceback": [
      "\u001b[1;31m---------------------------------------------------------------------------\u001b[0m",
      "\u001b[1;31mTypeError\u001b[0m                                 Traceback (most recent call last)",
      "Cell \u001b[1;32mIn[27], line 1\u001b[0m\n\u001b[1;32m----> 1\u001b[0m dimension [\u001b[38;5;241m0\u001b[39m] \u001b[38;5;241m=\u001b[39m \u001b[38;5;241m30\u001b[39m\n",
      "\u001b[1;31mTypeError\u001b[0m: 'tuple' object does not support item assignment"
     ]
    }
   ],
   "source": [
    " dimension [0] = 30   # try to modify value for index [0] , it will throw error as it is immutable"
   ]
  },
  {
   "cell_type": "code",
   "execution_count": 28,
   "id": "66b4b60f-e8e3-4e3c-8194-1ff6a6c23136",
   "metadata": {},
   "outputs": [
    {
     "name": "stdout",
     "output_type": "stream",
     "text": [
      "20\n"
     ]
    }
   ],
   "source": [
    "print (dimension[1])"
   ]
  }
 ],
 "metadata": {
  "kernelspec": {
   "display_name": "Python [conda env:base] *",
   "language": "python",
   "name": "conda-base-py"
  },
  "language_info": {
   "codemirror_mode": {
    "name": "ipython",
    "version": 3
   },
   "file_extension": ".py",
   "mimetype": "text/x-python",
   "name": "python",
   "nbconvert_exporter": "python",
   "pygments_lexer": "ipython3",
   "version": "3.13.5"
  }
 },
 "nbformat": 4,
 "nbformat_minor": 5
}
