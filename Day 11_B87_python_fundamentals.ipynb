{
 "cells": [
  {
   "cell_type": "code",
   "execution_count": null,
   "id": "3724a867-4bc2-4963-8021-12f9ece06378",
   "metadata": {},
   "outputs": [],
   "source": [
    "Introduction to python classes:"
   ]
  },
  {
   "cell_type": "code",
   "execution_count": null,
   "id": "9a554fd0-1572-4db6-b57a-a2770226779c",
   "metadata": {},
   "outputs": [],
   "source": [
    "\n",
    "class        ------ class is a high level blue print of the program\n",
    "methods       ------ A function written inside the class is called as a method\n",
    "attributes   ------- A variable written inside a class is called as an attributes\n",
    "objects / instances ----- is an approach by using which we can be able to access the class methods\n",
    "self  --------- self is temp placeholder for an object\n",
    "init -------- its a special method /magical method"
   ]
  },
  {
   "cell_type": "code",
   "execution_count": null,
   "id": "b2aad696-5c86-40b7-8560-054dc7aadf19",
   "metadata": {},
   "outputs": [],
   "source": [
    "What are OOPS: Object Oriented Programming:"
   ]
  },
  {
   "cell_type": "code",
   "execution_count": null,
   "id": "cf06e4f7-97ff-4241-83f1-fe358981c2b8",
   "metadata": {},
   "outputs": [],
   "source": [
    "# class eg: design a dog class with its functionalities"
   ]
  },
  {
   "cell_type": "code",
   "execution_count": 11,
   "id": "54275b50-dc32-4785-8c66-5952c9e150c8",
   "metadata": {},
   "outputs": [],
   "source": [
    "class Dog:   # this is a class declaration\n",
    "    \"\"\"A simple attempt to model the Dog\"\"\"\n",
    "    def __init__(self,name,age):   # this is the method\n",
    "      \"\"\"Initialize name and age attributes\"\"\"\n",
    "      self.name = name  # these are attributes\n",
    "      self.age = age\n",
    "    def sit(self):  # this is the method\n",
    "      \"\"\"Simulate a dog sitting in response to a command\"\"\"\n",
    "      print (f\"{self.name} is now sitting\")\n",
    "    def roll_over(self):  # this is the method\n",
    "      \"\"\"simulate rolling over in response to the command\"\"\"\n",
    "      print (f\"{self.name} is rolled over\")"
   ]
  },
  {
   "cell_type": "code",
   "execution_count": 12,
   "id": "af4f9e13-10b6-4dd9-9cae-ece33ae963bd",
   "metadata": {},
   "outputs": [],
   "source": [
    "my_dog = Dog ('bruno',6)"
   ]
  },
  {
   "cell_type": "code",
   "execution_count": 13,
   "id": "8edd79b6-6a22-416c-b685-8b58cae6d641",
   "metadata": {},
   "outputs": [
    {
     "name": "stdout",
     "output_type": "stream",
     "text": [
      "bruno is now sitting\n"
     ]
    }
   ],
   "source": [
    "my_dog.sit()"
   ]
  },
  {
   "cell_type": "code",
   "execution_count": 14,
   "id": "070af84f-52e5-4a9b-a337-4ed7c0025b2b",
   "metadata": {},
   "outputs": [
    {
     "name": "stdout",
     "output_type": "stream",
     "text": [
      "bruno is rolled over\n"
     ]
    }
   ],
   "source": [
    "my_dog.roll_over()"
   ]
  },
  {
   "cell_type": "code",
   "execution_count": 15,
   "id": "0cb78780-5a65-4b23-9b65-52d9ae123533",
   "metadata": {},
   "outputs": [],
   "source": [
    "test = Dog ('rex',3)"
   ]
  },
  {
   "cell_type": "code",
   "execution_count": 16,
   "id": "26096956-ec3a-40af-8f49-0b4ecbe60f1b",
   "metadata": {},
   "outputs": [
    {
     "name": "stdout",
     "output_type": "stream",
     "text": [
      "rex is now sitting\n"
     ]
    }
   ],
   "source": [
    "test.sit()"
   ]
  },
  {
   "cell_type": "code",
   "execution_count": 17,
   "id": "1a06db26-a568-4452-9354-a99951b1414c",
   "metadata": {},
   "outputs": [
    {
     "name": "stdout",
     "output_type": "stream",
     "text": [
      "rex is rolled over\n"
     ]
    }
   ],
   "source": [
    "test.roll_over()"
   ]
  },
  {
   "cell_type": "code",
   "execution_count": 18,
   "id": "93469050-21ad-4c1c-83df-55652c316aef",
   "metadata": {},
   "outputs": [],
   "source": [
    "class Car:\n",
    "    \"\"\"A simple attempt to represent a car\"\"\"\n",
    "    \n",
    "    def __init__(self,make,model,year):\n",
    "        \"\"\"initialize the attributes to describe the car\"\"\"\n",
    "        self.make = make\n",
    "        self.model = model\n",
    "        self.year = year\n",
    "        \n",
    "    def get_descriptive_name(self):\n",
    "        \"\"\"return a neatly formatted descriptive name\"\"\"\n",
    "        long_name = f\"{self.make} {self.model} {self.year}\"\n",
    "        return long_name.title()        "
   ]
  },
  {
   "cell_type": "code",
   "execution_count": 21,
   "id": "2523fa93-7547-45ec-aabd-82812498f8ff",
   "metadata": {},
   "outputs": [],
   "source": [
    "my_new_car = Car('audi','a4',2020)"
   ]
  },
  {
   "cell_type": "code",
   "execution_count": 23,
   "id": "974ffdf7-2651-4c75-9b29-d81be77c423b",
   "metadata": {},
   "outputs": [
    {
     "name": "stdout",
     "output_type": "stream",
     "text": [
      "Audi A4 2020\n"
     ]
    }
   ],
   "source": [
    "print (my_new_car.get_descriptive_name())"
   ]
  }
 ],
 "metadata": {
  "kernelspec": {
   "display_name": "Python [conda env:base] *",
   "language": "python",
   "name": "conda-base-py"
  },
  "language_info": {
   "codemirror_mode": {
    "name": "ipython",
    "version": 3
   },
   "file_extension": ".py",
   "mimetype": "text/x-python",
   "name": "python",
   "nbconvert_exporter": "python",
   "pygments_lexer": "ipython3",
   "version": "3.13.5"
  }
 },
 "nbformat": 4,
 "nbformat_minor": 5
}
