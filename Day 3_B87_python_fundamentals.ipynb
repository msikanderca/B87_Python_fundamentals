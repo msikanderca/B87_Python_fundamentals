{
 "cells": [
  {
   "cell_type": "code",
   "execution_count": null,
   "id": "37b48d9a-86bc-4040-9b30-989ff7d6b58d",
   "metadata": {},
   "outputs": [],
   "source": [
    "Continuation with String datatype:"
   ]
  },
  {
   "cell_type": "code",
   "execution_count": null,
   "id": "e44f1f69-2bc0-481c-8002-b625f877f81b",
   "metadata": {},
   "outputs": [],
   "source": [
    "Introduction to f strings:"
   ]
  },
  {
   "cell_type": "code",
   "execution_count": 2,
   "id": "d715f835-f5fd-4278-ac8b-45405e7c0fd3",
   "metadata": {},
   "outputs": [],
   "source": [
    "firstname = 'alice'\n",
    "lastname = 'robert'"
   ]
  },
  {
   "cell_type": "code",
   "execution_count": null,
   "id": "d5774962-b58f-4a88-a172-1cb3a4255a83",
   "metadata": {},
   "outputs": [],
   "source": [
    "# general syntax of f string:   f\"custom message {place_holder1} {place_holder2} {place_holder3} .....{place_holdern}\""
   ]
  },
  {
   "cell_type": "code",
   "execution_count": 3,
   "id": "c3777358-d9ba-4c7b-90f6-cccd89d1b7db",
   "metadata": {},
   "outputs": [
    {
     "name": "stdout",
     "output_type": "stream",
     "text": [
      "alice robert\n"
     ]
    }
   ],
   "source": [
    "fullname = f\"{firstname} {lastname}\"  #printing fullname\n",
    "print (fullname)"
   ]
  },
  {
   "cell_type": "code",
   "execution_count": 5,
   "id": "85bcc9cf-8d59-4717-bf49-2e15a139acb0",
   "metadata": {},
   "outputs": [
    {
     "name": "stdout",
     "output_type": "stream",
     "text": [
      "Alice Robert\n"
     ]
    }
   ],
   "source": [
    "print (fullname.title()) # fullname in correct format"
   ]
  },
  {
   "cell_type": "code",
   "execution_count": 6,
   "id": "e7d3150a-6e82-4251-ba13-b84d5c9f6721",
   "metadata": {},
   "outputs": [
    {
     "name": "stdout",
     "output_type": "stream",
     "text": [
      "keep up the good work, Alice Robert\n"
     ]
    }
   ],
   "source": [
    "message = f\"keep up the good work, {fullname.title()}\"\n",
    "print (message)"
   ]
  },
  {
   "cell_type": "code",
   "execution_count": null,
   "id": "2f8779c4-0765-46a9-be16-adc30bb9f3ce",
   "metadata": {},
   "outputs": [],
   "source": [
    "Adding whitespaces to strings:"
   ]
  },
  {
   "cell_type": "code",
   "execution_count": 8,
   "id": "870ee3a8-c7bb-4ca4-a682-ae25e17cebec",
   "metadata": {},
   "outputs": [
    {
     "name": "stdout",
     "output_type": "stream",
     "text": [
      "favourite_language: PythonCJavaC++JAVAScript\n"
     ]
    }
   ],
   "source": [
    "print (\"favourite_language: PythonCJavaC++JAVAScript\")"
   ]
  },
  {
   "cell_type": "code",
   "execution_count": 10,
   "id": "a988fbec-88c0-452c-b853-17e8a823c386",
   "metadata": {},
   "outputs": [
    {
     "name": "stdout",
     "output_type": "stream",
     "text": [
      "favourite_language:\n",
      "Python\n",
      "C\n",
      "Java\n",
      "C++\n",
      "JAVAScript\n"
     ]
    }
   ],
   "source": [
    "print (\"favourite_language:\\nPython\\nC\\nJava\\nC++\\nJAVAScript\")  #\\n - new line delimiter"
   ]
  },
  {
   "cell_type": "code",
   "execution_count": 19,
   "id": "0f629187-e1ad-4701-8d4c-3463d26219ba",
   "metadata": {},
   "outputs": [
    {
     "name": "stdout",
     "output_type": "stream",
     "text": [
      "favourite_language:\n",
      "\tPython\n",
      "\tC\n",
      "\tJava\n",
      "\tC++\n",
      "\tJAVAScript\n"
     ]
    }
   ],
   "source": [
    "print (\"favourite_language:\\n\\tPython\\n\\tC\\n\\tJava\\n\\tC++\\n\\tJAVAScript\")   # \\b - tab delimiter"
   ]
  },
  {
   "cell_type": "code",
   "execution_count": null,
   "id": "323f6f6c-bdc0-4b23-bf27-9924021dac84",
   "metadata": {},
   "outputs": [],
   "source": [
    "Removing whitespaces from strings:"
   ]
  },
  {
   "cell_type": "code",
   "execution_count": 13,
   "id": "cfd1834f-df0a-4141-872d-dc097342b7cb",
   "metadata": {},
   "outputs": [
    {
     "name": "stdout",
     "output_type": "stream",
     "text": [
      "   python\n"
     ]
    }
   ],
   "source": [
    "name = '   python'\n",
    "print (name)"
   ]
  },
  {
   "cell_type": "code",
   "execution_count": 15,
   "id": "48bde2fd-8286-4a62-bfeb-cd08616e90e4",
   "metadata": {},
   "outputs": [
    {
     "name": "stdout",
     "output_type": "stream",
     "text": [
      "python\n"
     ]
    }
   ],
   "source": [
    "name2 = 'python'\n",
    "print (name2)"
   ]
  },
  {
   "cell_type": "code",
   "execution_count": 16,
   "id": "bf17a741-da21-4903-b2d2-4c1f471c9f21",
   "metadata": {},
   "outputs": [
    {
     "name": "stdout",
     "output_type": "stream",
     "text": [
      "python    \n"
     ]
    }
   ],
   "source": [
    "name3 = 'python    '\n",
    "print (name3)"
   ]
  },
  {
   "cell_type": "code",
   "execution_count": 17,
   "id": "40d410fd-6276-4587-b2fb-38cf1b8c4bc8",
   "metadata": {},
   "outputs": [
    {
     "name": "stdout",
     "output_type": "stream",
     "text": [
      "   python    \n"
     ]
    }
   ],
   "source": [
    "name4 = '   python    '\n",
    "print (name4)"
   ]
  },
  {
   "cell_type": "code",
   "execution_count": 18,
   "id": "66efbd62-bab8-4694-be05-46802c609079",
   "metadata": {},
   "outputs": [
    {
     "data": {
      "text/plain": [
       "'python'"
      ]
     },
     "execution_count": 18,
     "metadata": {},
     "output_type": "execute_result"
    }
   ],
   "source": [
    "name4.strip()"
   ]
  },
  {
   "cell_type": "code",
   "execution_count": 20,
   "id": "3165afa7-35c8-4662-aeec-d16a2f7de659",
   "metadata": {},
   "outputs": [
    {
     "data": {
      "text/plain": [
       "'python'"
      ]
     },
     "execution_count": 20,
     "metadata": {},
     "output_type": "execute_result"
    }
   ],
   "source": [
    "name.lstrip()"
   ]
  },
  {
   "cell_type": "code",
   "execution_count": 21,
   "id": "280d331b-2c69-4712-8e90-637af3b162d3",
   "metadata": {},
   "outputs": [
    {
     "data": {
      "text/plain": [
       "'python'"
      ]
     },
     "execution_count": 21,
     "metadata": {},
     "output_type": "execute_result"
    }
   ],
   "source": [
    "name3.rstrip()"
   ]
  },
  {
   "cell_type": "code",
   "execution_count": 22,
   "id": "b99773b5-b88d-4a2e-a394-9bd52646cb69",
   "metadata": {},
   "outputs": [
    {
     "name": "stdout",
     "output_type": "stream",
     "text": [
      "The Zen of Python, by Tim Peters\n",
      "\n",
      "Beautiful is better than ugly.\n",
      "Explicit is better than implicit.\n",
      "Simple is better than complex.\n",
      "Complex is better than complicated.\n",
      "Flat is better than nested.\n",
      "Sparse is better than dense.\n",
      "Readability counts.\n",
      "Special cases aren't special enough to break the rules.\n",
      "Although practicality beats purity.\n",
      "Errors should never pass silently.\n",
      "Unless explicitly silenced.\n",
      "In the face of ambiguity, refuse the temptation to guess.\n",
      "There should be one-- and preferably only one --obvious way to do it.\n",
      "Although that way may not be obvious at first unless you're Dutch.\n",
      "Now is better than never.\n",
      "Although never is often better than *right* now.\n",
      "If the implementation is hard to explain, it's a bad idea.\n",
      "If the implementation is easy to explain, it may be a good idea.\n",
      "Namespaces are one honking great idea -- let's do more of those!\n"
     ]
    }
   ],
   "source": [
    "import this                 #zen of python"
   ]
  },
  {
   "cell_type": "code",
   "execution_count": null,
   "id": "6d9b4a32-ecac-42b5-af4f-4a4ffb8a5a54",
   "metadata": {},
   "outputs": [],
   "source": []
  }
 ],
 "metadata": {
  "kernelspec": {
   "display_name": "Python [conda env:base] *",
   "language": "python",
   "name": "conda-base-py"
  },
  "language_info": {
   "codemirror_mode": {
    "name": "ipython",
    "version": 3
   },
   "file_extension": ".py",
   "mimetype": "text/x-python",
   "name": "python",
   "nbconvert_exporter": "python",
   "pygments_lexer": "ipython3",
   "version": "3.13.5"
  }
 },
 "nbformat": 4,
 "nbformat_minor": 5
}
