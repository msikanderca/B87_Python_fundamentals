{
 "cells": [
  {
   "cell_type": "code",
   "execution_count": null,
   "id": "bef84ebd-be86-4877-acb3-cee0b2d97424",
   "metadata": {},
   "outputs": [],
   "source": [
    "Introduction to while loop:"
   ]
  },
  {
   "cell_type": "code",
   "execution_count": null,
   "id": "43fb1c19-22ee-4d39-903f-66398a0c24e6",
   "metadata": {},
   "outputs": [],
   "source": [
    "Definition: A while loop is used to execute a block of statements repeatedly until a given condition is satisfied."
   ]
  },
  {
   "cell_type": "code",
   "execution_count": 3,
   "id": "2f0975fb-01cd-411b-a52c-85a9c9f805a2",
   "metadata": {},
   "outputs": [
    {
     "name": "stdout",
     "output_type": "stream",
     "text": [
      "Hello World\n",
      "Hello World\n",
      "Hello World\n"
     ]
    }
   ],
   "source": [
    "count = 0\n",
    "\n",
    "while (count < 3):\n",
    "    count = count  + 1 # logic implementation\n",
    "    print (\"Hello World\")"
   ]
  },
  {
   "cell_type": "code",
   "execution_count": null,
   "id": "2dbf76d5-65fe-4278-bba2-78bd875942cc",
   "metadata": {},
   "outputs": [],
   "source": [
    "# infinite while loop in python"
   ]
  },
  {
   "cell_type": "code",
   "execution_count": 4,
   "id": "65b1e44a-3caf-43b1-aa10-0a7e793c800e",
   "metadata": {},
   "outputs": [
    {
     "ename": "IndentationError",
     "evalue": "unexpected indent (802552935.py, line 4)",
     "output_type": "error",
     "traceback": [
      "\u001b[1;36m  Cell \u001b[1;32mIn[4], line 4\u001b[1;36m\u001b[0m\n\u001b[1;33m    print (\"infinite loop\")\u001b[0m\n\u001b[1;37m    ^\u001b[0m\n\u001b[1;31mIndentationError\u001b[0m\u001b[1;31m:\u001b[0m unexpected indent\n"
     ]
    }
   ],
   "source": [
    "age = 28\n",
    "\n",
    "#  while age > 19:    This will go for infinite loop\n",
    "    print (\"infinite loop\")"
   ]
  }
 ],
 "metadata": {
  "kernelspec": {
   "display_name": "Python [conda env:base] *",
   "language": "python",
   "name": "conda-base-py"
  },
  "language_info": {
   "codemirror_mode": {
    "name": "ipython",
    "version": 3
   },
   "file_extension": ".py",
   "mimetype": "text/x-python",
   "name": "python",
   "nbconvert_exporter": "python",
   "pygments_lexer": "ipython3",
   "version": "3.13.5"
  }
 },
 "nbformat": 4,
 "nbformat_minor": 5
}
