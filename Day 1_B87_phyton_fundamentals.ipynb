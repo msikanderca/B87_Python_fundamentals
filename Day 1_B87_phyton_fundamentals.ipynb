{
 "cells": [
  {
   "cell_type": "code",
   "execution_count": 1,
   "id": "6fa6e20a-8aeb-46cc-a77a-bb027659a0d2",
   "metadata": {},
   "outputs": [
    {
     "name": "stdout",
     "output_type": "stream",
     "text": [
      "Hello World\n"
     ]
    }
   ],
   "source": [
    "print (\"Hello World\")  # input"
   ]
  },
  {
   "cell_type": "code",
   "execution_count": 4,
   "id": "d2333f73-7b11-4cf6-aba1-2f7fa9665256",
   "metadata": {},
   "outputs": [
    {
     "name": "stdout",
     "output_type": "stream",
     "text": [
      "Hello All Welcome to python programming sessions\n"
     ]
    }
   ],
   "source": [
    "print (\"Hello All Welcome to python programming sessions\") # for output -- shift + enter"
   ]
  },
  {
   "cell_type": "code",
   "execution_count": null,
   "id": "f86c9667-da74-4a57-8129-b7e720a56267",
   "metadata": {},
   "outputs": [],
   "source": []
  }
 ],
 "metadata": {
  "kernelspec": {
   "display_name": "Python [conda env:base] *",
   "language": "python",
   "name": "conda-base-py"
  },
  "language_info": {
   "codemirror_mode": {
    "name": "ipython",
    "version": 3
   },
   "file_extension": ".py",
   "mimetype": "text/x-python",
   "name": "python",
   "nbconvert_exporter": "python",
   "pygments_lexer": "ipython3",
   "version": "3.13.5"
  }
 },
 "nbformat": 4,
 "nbformat_minor": 5
}
