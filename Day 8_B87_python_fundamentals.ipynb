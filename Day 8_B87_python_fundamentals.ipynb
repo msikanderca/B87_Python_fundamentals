{
 "cells": [
  {
   "cell_type": "code",
   "execution_count": null,
   "id": "630e984e-208e-41e8-8246-c880dad219df",
   "metadata": {},
   "outputs": [],
   "source": [
    "Introduction to conditional statements:"
   ]
  },
  {
   "cell_type": "code",
   "execution_count": null,
   "id": "65489bfe-9e71-4723-98b9-c79029a21288",
   "metadata": {},
   "outputs": [],
   "source": [
    "if statements:\n"
   ]
  },
  {
   "cell_type": "code",
   "execution_count": 1,
   "id": "4c5f4659-990e-41bb-9896-eebb247dde10",
   "metadata": {},
   "outputs": [
    {
     "name": "stdout",
     "output_type": "stream",
     "text": [
      "['audi', 'bmw', 'hundai', 'toyota', 'kia', 'suzuki', 'maruthi']\n"
     ]
    }
   ],
   "source": [
    "cars = ['audi','bmw','hundai','toyota','kia','suzuki', 'maruthi']\n",
    "print  (cars)"
   ]
  },
  {
   "cell_type": "code",
   "execution_count": 2,
   "id": "41807609-cd7a-45fa-9857-333d5fff8366",
   "metadata": {},
   "outputs": [
    {
     "data": {
      "text/plain": [
       "list"
      ]
     },
     "execution_count": 2,
     "metadata": {},
     "output_type": "execute_result"
    }
   ],
   "source": [
    "type (cars)"
   ]
  },
  {
   "cell_type": "code",
   "execution_count": null,
   "id": "a1920955-9d52-4dad-9e04-425a9320c1f8",
   "metadata": {},
   "outputs": [],
   "source": [
    "# to get Suzuki in capital letters and rest all the cars should be printed in title case"
   ]
  },
  {
   "cell_type": "code",
   "execution_count": 7,
   "id": "9dec9603-b5af-4ecb-b55e-315d02539f69",
   "metadata": {},
   "outputs": [
    {
     "name": "stdout",
     "output_type": "stream",
     "text": [
      "Audi\n",
      "Bmw\n",
      "Hundai\n",
      "Toyota\n",
      "Kia\n",
      "SUZUKI\n",
      "Maruthi\n"
     ]
    }
   ],
   "source": [
    "for a in cars:\n",
    "    if a == 'suzuki':\n",
    "        print(a.upper())\n",
    "    else:\n",
    "\t    print(a.title())"
   ]
  },
  {
   "cell_type": "code",
   "execution_count": null,
   "id": "7d42a877-ec89-4c6d-a6b3-57afe5df6910",
   "metadata": {},
   "outputs": [],
   "source": [
    "# building an voting application:"
   ]
  },
  {
   "cell_type": "code",
   "execution_count": 8,
   "id": "dc01ba0f-834b-4c7e-942f-99deff41f3b9",
   "metadata": {},
   "outputs": [],
   "source": [
    "age = 17"
   ]
  },
  {
   "cell_type": "code",
   "execution_count": 9,
   "id": "12278085-d07c-4e5f-b14c-49bae219737d",
   "metadata": {},
   "outputs": [
    {
     "data": {
      "text/plain": [
       "int"
      ]
     },
     "execution_count": 9,
     "metadata": {},
     "output_type": "execute_result"
    }
   ],
   "source": [
    "type(age)"
   ]
  },
  {
   "cell_type": "code",
   "execution_count": 11,
   "id": "ac7341a6-ec38-41f0-b538-3aee22a41f0c",
   "metadata": {},
   "outputs": [
    {
     "name": "stdout",
     "output_type": "stream",
     "text": [
      "not eligible to vote, try next year\n"
     ]
    }
   ],
   "source": [
    "if age >= 18:\n",
    "    print (\"you are eligible to vote\")\n",
    "else:\n",
    "    print (\"not eligible to vote, try next year\")"
   ]
  },
  {
   "cell_type": "code",
   "execution_count": 12,
   "id": "90af1889-1fac-4af4-864c-3c06b413373e",
   "metadata": {},
   "outputs": [],
   "source": [
    "age = 19"
   ]
  },
  {
   "cell_type": "code",
   "execution_count": 13,
   "id": "00c04501-4687-4da4-a764-7595bc83a742",
   "metadata": {},
   "outputs": [
    {
     "name": "stdout",
     "output_type": "stream",
     "text": [
      "you are eligible to vote\n"
     ]
    }
   ],
   "source": [
    "if age >= 18:\n",
    "    print (\"you are eligible to vote\")\n",
    "else:\n",
    "    print (\"not eligible to vote, try next year\")"
   ]
  },
  {
   "cell_type": "code",
   "execution_count": null,
   "id": "129b23f1-53fc-441b-ab2f-1667a88abb9d",
   "metadata": {},
   "outputs": [],
   "source": [
    "Understanding the concept of user input:"
   ]
  },
  {
   "cell_type": "code",
   "execution_count": 14,
   "id": "9aee5479-2936-4734-970f-f7badb7ae413",
   "metadata": {},
   "outputs": [
    {
     "name": "stdin",
     "output_type": "stream",
     "text": [
      "Tell me something and I will repeat it back to you! Hello World!\n"
     ]
    },
    {
     "name": "stdout",
     "output_type": "stream",
     "text": [
      "Hello World!\n"
     ]
    }
   ],
   "source": [
    "message = input (\"Tell me something and I will repeat it back to you!\")\n",
    "print (message)"
   ]
  },
  {
   "cell_type": "code",
   "execution_count": null,
   "id": "b255d6e7-ac12-430c-8c1e-5a1903629922",
   "metadata": {},
   "outputs": [],
   "source": [
    "# I want to greet user based on input"
   ]
  },
  {
   "cell_type": "code",
   "execution_count": 15,
   "id": "e713fc8c-42c5-415c-aa27-bc0e39826b26",
   "metadata": {},
   "outputs": [
    {
     "name": "stdin",
     "output_type": "stream",
     "text": [
      "Please enter your name:  Alice\n"
     ]
    },
    {
     "name": "stdout",
     "output_type": "stream",
     "text": [
      "\n",
      " Hello, Alice!\n"
     ]
    }
   ],
   "source": [
    "name = input  (\"Please enter your name: \")\n",
    "print (f\"\\n Hello, {name}!\")"
   ]
  },
  {
   "cell_type": "code",
   "execution_count": 16,
   "id": "8aeb1710-bd43-416f-9940-33d5daa698e1",
   "metadata": {},
   "outputs": [
    {
     "name": "stdin",
     "output_type": "stream",
     "text": [
      "How old are you ?  8\n"
     ]
    },
    {
     "ename": "TypeError",
     "evalue": "'>=' not supported between instances of 'str' and 'int'",
     "output_type": "error",
     "traceback": [
      "\u001b[1;31m---------------------------------------------------------------------------\u001b[0m",
      "\u001b[1;31mTypeError\u001b[0m                                 Traceback (most recent call last)",
      "Cell \u001b[1;32mIn[16], line 2\u001b[0m\n\u001b[0;32m      1\u001b[0m age \u001b[38;5;241m=\u001b[39m \u001b[38;5;28minput\u001b[39m (\u001b[38;5;124m\"\u001b[39m\u001b[38;5;124mHow old are you ? \u001b[39m\u001b[38;5;124m\"\u001b[39m)\n\u001b[1;32m----> 2\u001b[0m \u001b[38;5;28;01mif\u001b[39;00m age \u001b[38;5;241m>\u001b[39m\u001b[38;5;241m=\u001b[39m \u001b[38;5;241m18\u001b[39m:\n\u001b[0;32m      3\u001b[0m     \u001b[38;5;28mprint\u001b[39m (\u001b[38;5;124m\"\u001b[39m\u001b[38;5;124myou are eligible to vote\u001b[39m\u001b[38;5;124m\"\u001b[39m)\n\u001b[0;32m      4\u001b[0m \u001b[38;5;28;01melse\u001b[39;00m:\n",
      "\u001b[1;31mTypeError\u001b[0m: '>=' not supported between instances of 'str' and 'int'"
     ]
    }
   ],
   "source": [
    "age = input (\"How old are you ? \")\n",
    "if age >= 18:\n",
    "    print (\"you are eligible to vote\")\n",
    "else:\n",
    "    print (\"not eligible to vote, try next year\")"
   ]
  },
  {
   "cell_type": "code",
   "execution_count": 17,
   "id": "1c7a272e-6d9c-42d1-937b-0858bb44d512",
   "metadata": {},
   "outputs": [
    {
     "name": "stdin",
     "output_type": "stream",
     "text": [
      "How old are you ?  10\n"
     ]
    },
    {
     "name": "stdout",
     "output_type": "stream",
     "text": [
      "not eligible to vote, try next year\n"
     ]
    }
   ],
   "source": [
    "age = input (\"How old are you ? \")\n",
    "age = int (age)\n",
    "if age >= 18:\n",
    "    print (\"you are eligible to vote\")\n",
    "else:\n",
    "    print (\"not eligible to vote, try next year\")"
   ]
  },
  {
   "cell_type": "code",
   "execution_count": null,
   "id": "213bcbbb-ade9-4aad-b3c0-a74545a65e99",
   "metadata": {},
   "outputs": [],
   "source": [
    "# if given a number by user, i want to find if the number is even or odd"
   ]
  },
  {
   "cell_type": "code",
   "execution_count": 20,
   "id": "651d225d-3db1-41f1-87b1-a6a9e8c9f286",
   "metadata": {},
   "outputs": [
    {
     "name": "stdin",
     "output_type": "stream",
     "text": [
      "Enter the number, i will tell you if its even or odd : 23\n"
     ]
    },
    {
     "name": "stdout",
     "output_type": "stream",
     "text": [
      "\n",
      " this number 23 is odd\n"
     ]
    }
   ],
   "source": [
    "number = input (\"Enter the number, i will tell you if its even or odd :\")\n",
    "number = int (number)\n",
    "\n",
    "if (number %2 ==0):\n",
    "    print (f\"\\n this number {number} is even\")\n",
    "else:\n",
    "    print (f\"\\n this number {number} is odd\")"
   ]
  }
 ],
 "metadata": {
  "kernelspec": {
   "display_name": "Python [conda env:base] *",
   "language": "python",
   "name": "conda-base-py"
  },
  "language_info": {
   "codemirror_mode": {
    "name": "ipython",
    "version": 3
   },
   "file_extension": ".py",
   "mimetype": "text/x-python",
   "name": "python",
   "nbconvert_exporter": "python",
   "pygments_lexer": "ipython3",
   "version": "3.13.5"
  }
 },
 "nbformat": 4,
 "nbformat_minor": 5
}
