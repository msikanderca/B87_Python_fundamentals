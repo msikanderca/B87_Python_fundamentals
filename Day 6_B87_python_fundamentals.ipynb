{
 "cells": [
  {
   "cell_type": "code",
   "execution_count": null,
   "id": "c2a5b8dd-5738-4f71-a3d4-1267da6cdfff",
   "metadata": {},
   "outputs": [],
   "source": [
    "Introduction to Dictionaries:"
   ]
  },
  {
   "cell_type": "code",
   "execution_count": null,
   "id": "b79059e9-626d-4cb6-8974-5ac202ff94ad",
   "metadata": {},
   "outputs": [],
   "source": [
    "Definition: A dictionary is a combination of key,value pairs\n",
    "classification: It is classified as  mutable datatype\n",
    "\n",
    "to define - use - {}\n",
    "# dictionary is written as dict"
   ]
  },
  {
   "cell_type": "code",
   "execution_count": 1,
   "id": "bcb0c57c-6ff8-4feb-8e49-4f3acde9f776",
   "metadata": {},
   "outputs": [
    {
     "name": "stdout",
     "output_type": "stream",
     "text": [
      "{'color': 'green', 'points': 5}\n"
     ]
    }
   ],
   "source": [
    "# to design a align game:\n",
    "alien = {'color':'green','points' : 5}\n",
    "print (alien)"
   ]
  },
  {
   "cell_type": "code",
   "execution_count": 2,
   "id": "b7c1f6ea-b1b7-4059-8a61-3c0738859968",
   "metadata": {},
   "outputs": [
    {
     "data": {
      "text/plain": [
       "dict"
      ]
     },
     "execution_count": 2,
     "metadata": {},
     "output_type": "execute_result"
    }
   ],
   "source": [
    "type(alien)"
   ]
  },
  {
   "cell_type": "code",
   "execution_count": 4,
   "id": "60a21682-3a5d-4935-a6a7-08b374b64de8",
   "metadata": {},
   "outputs": [
    {
     "name": "stdout",
     "output_type": "stream",
     "text": [
      "{'color': 'green', 'points': 5, 'start_position': 'level'}\n"
     ]
    }
   ],
   "source": [
    "alien [\"start_position\"] = \"level\" # to add key-value pair\n",
    "print (alien)"
   ]
  },
  {
   "cell_type": "code",
   "execution_count": null,
   "id": "0a37df06-b642-4f91-ba4f-25abb8972109",
   "metadata": {},
   "outputs": [],
   "source": [
    "Note: in dictionary keys will be acting as indexes"
   ]
  },
  {
   "cell_type": "code",
   "execution_count": 6,
   "id": "140b476d-e21f-41d4-a4a2-0253173aba3d",
   "metadata": {},
   "outputs": [
    {
     "ename": "KeyError",
     "evalue": "0",
     "output_type": "error",
     "traceback": [
      "\u001b[1;31m---------------------------------------------------------------------------\u001b[0m",
      "\u001b[1;31mKeyError\u001b[0m                                  Traceback (most recent call last)",
      "Cell \u001b[1;32mIn[6], line 1\u001b[0m\n\u001b[1;32m----> 1\u001b[0m \u001b[38;5;28mprint\u001b[39m (alien[\u001b[38;5;241m0\u001b[39m])\n",
      "\u001b[1;31mKeyError\u001b[0m: 0"
     ]
    }
   ],
   "source": [
    "print (alien[0]) # want to know the color of alien -- this will throw error"
   ]
  },
  {
   "cell_type": "code",
   "execution_count": 8,
   "id": "31e95e80-5ae1-4e12-a05a-57b9767079ee",
   "metadata": {},
   "outputs": [
    {
     "name": "stdout",
     "output_type": "stream",
     "text": [
      "green\n"
     ]
    }
   ],
   "source": [
    "print (alien['color']) # want to know the color of alien -- give key and get value"
   ]
  },
  {
   "cell_type": "code",
   "execution_count": 10,
   "id": "0796646b-85c4-40b0-9071-0cb93146327c",
   "metadata": {},
   "outputs": [
    {
     "name": "stdout",
     "output_type": "stream",
     "text": [
      "{'color': 'red', 'points': 5, 'start_position': 'level'}\n"
     ]
    }
   ],
   "source": [
    "alien ['color'] ='red'   # to modify the color from green to red\n",
    "print (alien)"
   ]
  },
  {
   "cell_type": "code",
   "execution_count": 11,
   "id": "1327f0d9-29da-4ec2-b39e-0e46592761d5",
   "metadata": {},
   "outputs": [],
   "source": [
    "# to create a new facebook account"
   ]
  },
  {
   "cell_type": "code",
   "execution_count": 12,
   "id": "064c1d5e-8d0f-462f-9be8-12422136a8a0",
   "metadata": {},
   "outputs": [
    {
     "name": "stdout",
     "output_type": "stream",
     "text": [
      "{'firstname': 'Alice', 'lastname': 'Bob', 'username': 'ab', 'pwd': '2434'}\n"
     ]
    }
   ],
   "source": [
    "user_account = {'firstname': 'Alice', 'lastname': 'Bob','username' : 'ab', 'pwd': '2434'}\n",
    "print (user_account)"
   ]
  },
  {
   "cell_type": "code",
   "execution_count": 13,
   "id": "f7e80263-d442-442a-8731-117d546a4861",
   "metadata": {},
   "outputs": [
    {
     "name": "stdout",
     "output_type": "stream",
     "text": [
      "{'firstname': 'Alice', 'lastname': 'Bob', 'pwd': '2434'}\n"
     ]
    }
   ],
   "source": [
    " del user_account ['username']  #to delete the key-value pair\n",
    "print (user_account)"
   ]
  },
  {
   "cell_type": "code",
   "execution_count": null,
   "id": "9c98ecde-cebd-44d2-9cfd-eed04c43917f",
   "metadata": {},
   "outputs": [],
   "source": [
    "Introduction to Looping statements:"
   ]
  },
  {
   "cell_type": "code",
   "execution_count": 18,
   "id": "7fc3c457-457f-4a49-bfc8-26b9b1fce6ec",
   "metadata": {},
   "outputs": [
    {
     "name": "stdout",
     "output_type": "stream",
     "text": [
      "keep up the work, Alice\n"
     ]
    }
   ],
   "source": [
    "students = ['alice','bob','charlie','darwin','else']\n",
    "print (f\"keep up the work, {students[0].title()}\")"
   ]
  },
  {
   "cell_type": "code",
   "execution_count": 19,
   "id": "9b5e463b-9197-4aff-800b-bc49f8024e2d",
   "metadata": {},
   "outputs": [
    {
     "name": "stdout",
     "output_type": "stream",
     "text": [
      "keep up the work, Bob\n"
     ]
    }
   ],
   "source": [
    "print (f\"keep up the work, {students[1].title()}\")"
   ]
  },
  {
   "cell_type": "code",
   "execution_count": null,
   "id": "d36559a5-7499-469e-b415-6f9af711f20f",
   "metadata": {},
   "outputs": [],
   "source": [
    "Introduction to for loop:\n",
    "# syntax: \n",
    "for  tempvar in mainvar:\n",
    "               print (tempvar)"
   ]
  },
  {
   "cell_type": "code",
   "execution_count": 21,
   "id": "337bdbd3-b0ba-4045-bb8d-dbbec3852f92",
   "metadata": {},
   "outputs": [
    {
     "name": "stdout",
     "output_type": "stream",
     "text": [
      "keep up the work, Alice\n",
      "keep up the work, Bob\n",
      "keep up the work, Charlie\n",
      "keep up the work, Darwin\n",
      "keep up the work, Else\n"
     ]
    }
   ],
   "source": [
    "for x in students:\n",
    "    print (f\"keep up the work, {x.title()}\")"
   ]
  },
  {
   "cell_type": "code",
   "execution_count": 22,
   "id": "4097d014-6d62-42db-9262-3dc06c677381",
   "metadata": {},
   "outputs": [
    {
     "name": "stdout",
     "output_type": "stream",
     "text": [
      "alice\n",
      "bob\n",
      "charlie\n",
      "darwin\n",
      "else\n"
     ]
    }
   ],
   "source": [
    "for a in students:\n",
    "    print (a)"
   ]
  },
  {
   "cell_type": "code",
   "execution_count": 23,
   "id": "3f09a777-2d60-4dcf-8e10-c190b7ed9a6f",
   "metadata": {},
   "outputs": [
    {
     "ename": "IndentationError",
     "evalue": "expected an indented block after 'for' statement on line 1 (3677372798.py, line 2)",
     "output_type": "error",
     "traceback": [
      "\u001b[1;36m  Cell \u001b[1;32mIn[23], line 2\u001b[1;36m\u001b[0m\n\u001b[1;33m    print (a)\u001b[0m\n\u001b[1;37m    ^\u001b[0m\n\u001b[1;31mIndentationError\u001b[0m\u001b[1;31m:\u001b[0m expected an indented block after 'for' statement on line 1\n"
     ]
    }
   ],
   "source": [
    "for a in students:\n",
    "print (a)"
   ]
  }
 ],
 "metadata": {
  "kernelspec": {
   "display_name": "Python [conda env:base] *",
   "language": "python",
   "name": "conda-base-py"
  },
  "language_info": {
   "codemirror_mode": {
    "name": "ipython",
    "version": 3
   },
   "file_extension": ".py",
   "mimetype": "text/x-python",
   "name": "python",
   "nbconvert_exporter": "python",
   "pygments_lexer": "ipython3",
   "version": "3.13.5"
  }
 },
 "nbformat": 4,
 "nbformat_minor": 5
}
