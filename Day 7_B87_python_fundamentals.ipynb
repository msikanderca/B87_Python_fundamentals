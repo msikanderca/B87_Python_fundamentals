{
 "cells": [
  {
   "cell_type": "code",
   "execution_count": 3,
   "id": "5b5d869e-0967-4a36-bf37-a5c0bc6272a1",
   "metadata": {},
   "outputs": [],
   "source": [
    "students =['alice','bob','charlie','david','else']"
   ]
  },
  {
   "cell_type": "code",
   "execution_count": 4,
   "id": "eae66088-29f2-448c-8c37-821e10e619a0",
   "metadata": {},
   "outputs": [
    {
     "name": "stdout",
     "output_type": "stream",
     "text": [
      "Hello, welcome to python programming, Alice\n",
      "Hello, welcome to python programming, Bob\n",
      "Hello, welcome to python programming, Charlie\n",
      "Hello, welcome to python programming, David\n",
      "Hello, welcome to python programming, Else\n"
     ]
    }
   ],
   "source": [
    "for i in students:\n",
    "    print (f\"Hello, welcome to python programming, {i.title()}\")"
   ]
  },
  {
   "cell_type": "code",
   "execution_count": 5,
   "id": "7bc1f93c-5eac-4924-b2d4-1ce5b7cc62bf",
   "metadata": {},
   "outputs": [
    {
     "name": "stdout",
     "output_type": "stream",
     "text": [
      "Hello, welcome to python programming, Alice\n",
      "Keep up the good work, Alice\n",
      "Hello, welcome to python programming, Bob\n",
      "Keep up the good work, Bob\n",
      "Hello, welcome to python programming, Charlie\n",
      "Keep up the good work, Charlie\n",
      "Hello, welcome to python programming, David\n",
      "Keep up the good work, David\n",
      "Hello, welcome to python programming, Else\n",
      "Keep up the good work, Else\n"
     ]
    }
   ],
   "source": [
    "for i in students:\n",
    "    print (f\"Hello, welcome to python programming, {i.title()}\")\n",
    "    print (f\"Keep up the good work, {i.title()}\")"
   ]
  },
  {
   "cell_type": "code",
   "execution_count": 8,
   "id": "b9e9f20e-8684-4925-acc7-337590b6ee72",
   "metadata": {},
   "outputs": [
    {
     "name": "stdout",
     "output_type": "stream",
     "text": [
      "Hello, welcome to python programming, Alice\n",
      "Keep up the good work, Alice \n",
      "\n",
      "Hello, welcome to python programming, Bob\n",
      "Keep up the good work, Bob \n",
      "\n",
      "Hello, welcome to python programming, Charlie\n",
      "Keep up the good work, Charlie \n",
      "\n",
      "Hello, welcome to python programming, David\n",
      "Keep up the good work, David \n",
      "\n",
      "Hello, welcome to python programming, Else\n",
      "Keep up the good work, Else \n",
      "\n"
     ]
    }
   ],
   "source": [
    "for i in students:\n",
    "    print (f\"Hello, welcome to python programming, {i.title()}\")\n",
    "    print (f\"Keep up the good work, {i.title()} \\n\" ) "
   ]
  },
  {
   "cell_type": "code",
   "execution_count": 9,
   "id": "253b574f-95a8-41d9-8b79-582827f77779",
   "metadata": {},
   "outputs": [
    {
     "name": "stdout",
     "output_type": "stream",
     "text": [
      "Hello, welcome to python programming, Alice\n",
      "Keep up the good work, Alice \n",
      "\n",
      "Hello, welcome to python programming, Bob\n",
      "Keep up the good work, Bob \n",
      "\n",
      "Hello, welcome to python programming, Charlie\n",
      "Keep up the good work, Charlie \n",
      "\n",
      "Hello, welcome to python programming, David\n",
      "Keep up the good work, David \n",
      "\n",
      "Hello, welcome to python programming, Else\n",
      "Keep up the good work, Else \n",
      "\n",
      "Thank you all for joining the session\n"
     ]
    }
   ],
   "source": [
    "for i in students:\n",
    "    print (f\"Hello, welcome to python programming, {i.title()}\")\n",
    "    print (f\"Keep up the good work, {i.title()} \\n\" )\n",
    "print (\"Thank you all for joining the session\")"
   ]
  }
 ],
 "metadata": {
  "kernelspec": {
   "display_name": "Python [conda env:base] *",
   "language": "python",
   "name": "conda-base-py"
  },
  "language_info": {
   "codemirror_mode": {
    "name": "ipython",
    "version": 3
   },
   "file_extension": ".py",
   "mimetype": "text/x-python",
   "name": "python",
   "nbconvert_exporter": "python",
   "pygments_lexer": "ipython3",
   "version": "3.13.5"
  }
 },
 "nbformat": 4,
 "nbformat_minor": 5
}
