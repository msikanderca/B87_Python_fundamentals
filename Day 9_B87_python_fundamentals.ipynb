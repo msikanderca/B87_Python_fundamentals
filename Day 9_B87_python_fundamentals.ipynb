{
 "cells": [
  {
   "cell_type": "code",
   "execution_count": null,
   "id": "08a6c01f-42a7-40a6-ba48-d510fa09d8a7",
   "metadata": {},
   "outputs": [],
   "source": [
    "Introduction to python functions:"
   ]
  },
  {
   "cell_type": "code",
   "execution_count": null,
   "id": "68341696-9e13-4c43-b21e-818136a3d931",
   "metadata": {},
   "outputs": [],
   "source": [
    "how to define a function : def\n",
    "\n",
    "for giving a function name use small case letters"
   ]
  },
  {
   "cell_type": "code",
   "execution_count": 1,
   "id": "e6b22bbf-6e87-4839-bf60-f18514d44a55",
   "metadata": {},
   "outputs": [],
   "source": [
    "def  greet():   # this is defining a function\n",
    " \"\"\"this function will greet the user \"\"\"  # this is doc string\n",
    " print (\"Hello\")"
   ]
  },
  {
   "cell_type": "code",
   "execution_count": 2,
   "id": "14b853d6-3590-4230-a33d-6d000c7a374c",
   "metadata": {},
   "outputs": [
    {
     "ename": "SyntaxError",
     "evalue": "invalid syntax (3955771048.py, line 1)",
     "output_type": "error",
     "traceback": [
      "\u001b[1;36m  Cell \u001b[1;32mIn[2], line 1\u001b[1;36m\u001b[0m\n\u001b[1;33m    greet():\u001b[0m\n\u001b[1;37m           ^\u001b[0m\n\u001b[1;31mSyntaxError\u001b[0m\u001b[1;31m:\u001b[0m invalid syntax\n"
     ]
    }
   ],
   "source": [
    "greet():"
   ]
  },
  {
   "cell_type": "code",
   "execution_count": 3,
   "id": "4166ec42-4282-48d2-a967-4aa9ea99b603",
   "metadata": {},
   "outputs": [
    {
     "name": "stdout",
     "output_type": "stream",
     "text": [
      "Hello\n"
     ]
    }
   ],
   "source": [
    "greet() # function call"
   ]
  },
  {
   "cell_type": "code",
   "execution_count": 5,
   "id": "cb915628-9c37-4a19-a31a-325f61d7366b",
   "metadata": {},
   "outputs": [],
   "source": [
    "def greet_user():\n",
    " \"\"\"Display a simple greeting\"\"\"\n",
    " print (\"Hello\")"
   ]
  },
  {
   "cell_type": "code",
   "execution_count": 6,
   "id": "fbf717f4-389f-49e8-9457-38b9db7470a1",
   "metadata": {},
   "outputs": [
    {
     "name": "stdout",
     "output_type": "stream",
     "text": [
      "Hello\n"
     ]
    }
   ],
   "source": [
    "greet_user()"
   ]
  },
  {
   "cell_type": "code",
   "execution_count": 7,
   "id": "69cb3290-e5c2-4e44-b102-8ab47191c8d0",
   "metadata": {},
   "outputs": [
    {
     "name": "stdout",
     "output_type": "stream",
     "text": [
      "Hello\n"
     ]
    }
   ],
   "source": [
    "greet_user()"
   ]
  },
  {
   "cell_type": "code",
   "execution_count": 10,
   "id": "7e6ac79c-df23-4a10-b3a4-dcf31ebb0c36",
   "metadata": {},
   "outputs": [],
   "source": [
    "\n",
    "def greet_user(username):   #parameters declaration # params\n",
    " \"\"\"Display a simple greeting\"\"\"\n",
    " print (f\"Hello,{username.title()}\")\n"
   ]
  },
  {
   "cell_type": "code",
   "execution_count": 11,
   "id": "6c524fef-0a14-427a-87ac-e6679e78dbe3",
   "metadata": {},
   "outputs": [
    {
     "name": "stdout",
     "output_type": "stream",
     "text": [
      "Hello,Alice\n"
     ]
    }
   ],
   "source": [
    "greet_user ('Alice')  #arguments passing #args"
   ]
  },
  {
   "cell_type": "code",
   "execution_count": 12,
   "id": "9f21276e-5cfb-48bd-8a04-3534f972605e",
   "metadata": {},
   "outputs": [
    {
     "name": "stdout",
     "output_type": "stream",
     "text": [
      "Hello,Bob\n"
     ]
    }
   ],
   "source": [
    "greet_user ('Bob')\n"
   ]
  },
  {
   "cell_type": "code",
   "execution_count": null,
   "id": "0db020a0-6a1f-4564-8228-ecc10384a0b1",
   "metadata": {},
   "outputs": [],
   "source": [
    "Types of arguments:\n",
    "\n",
    "1. positional arguments\n",
    "2. keyword arguments\n",
    "3. arbitrary arguments"
   ]
  },
  {
   "cell_type": "code",
   "execution_count": null,
   "id": "980489c6-2763-4314-9072-9a4a309463bf",
   "metadata": {},
   "outputs": [],
   "source": [
    "# define a function with name describe_pet with 2 parameters  : pet_name and animal_type\n"
   ]
  },
  {
   "cell_type": "code",
   "execution_count": 16,
   "id": "9acaa6b9-4e4f-47fb-a3a6-4cc0fa69d682",
   "metadata": {},
   "outputs": [],
   "source": [
    "def describe_pet(animal_type,pet_name):\n",
    "    \"\"\"describe the information about the pet\"\"\"\n",
    "    print (f\"\\nI have a {animal_type}\")\n",
    "    print (f\"my {animal_type}'s name is {pet_name}\")"
   ]
  },
  {
   "cell_type": "code",
   "execution_count": 18,
   "id": "3b8892bb-03f8-4ae7-8c93-91a10db3a86c",
   "metadata": {},
   "outputs": [
    {
     "name": "stdout",
     "output_type": "stream",
     "text": [
      "\n",
      "I have a dog\n",
      "my dog's name is bruno\n"
     ]
    }
   ],
   "source": [
    "describe_pet('dog','bruno')"
   ]
  },
  {
   "cell_type": "code",
   "execution_count": 19,
   "id": "735c915f-1686-46e0-84a8-7199436db77d",
   "metadata": {},
   "outputs": [
    {
     "name": "stdout",
     "output_type": "stream",
     "text": [
      "\n",
      "I have a cat\n",
      "my cat's name is rex\n"
     ]
    }
   ],
   "source": [
    "describe_pet('cat','rex')"
   ]
  },
  {
   "cell_type": "code",
   "execution_count": 23,
   "id": "f7e039bb-5061-4744-8707-b8d354e2aefc",
   "metadata": {},
   "outputs": [
    {
     "name": "stdout",
     "output_type": "stream",
     "text": [
      "\n",
      "I have a sweety\n",
      "my sweety's name is parrot\n"
     ]
    }
   ],
   "source": [
    "describe_pet('sweety','parrot') #parrot and sweety"
   ]
  },
  {
   "cell_type": "code",
   "execution_count": 21,
   "id": "848b89c4-b35b-4ee1-a433-b76170a34f2e",
   "metadata": {},
   "outputs": [
    {
     "name": "stdout",
     "output_type": "stream",
     "text": [
      "\n",
      "I have a parrot\n",
      "my parrot's name is sweety\n"
     ]
    }
   ],
   "source": [
    "describe_pet('parrot','sweety') "
   ]
  },
  {
   "cell_type": "code",
   "execution_count": 24,
   "id": "3ff7fc94-21b4-4ffb-8286-01f8a527cead",
   "metadata": {},
   "outputs": [
    {
     "name": "stdout",
     "output_type": "stream",
     "text": [
      "\n",
      "I have a parrot\n",
      "my parrot's name is sweety\n"
     ]
    }
   ],
   "source": [
    "describe_pet(pet_name ='sweety',animal_type ='parrot')   # keyword arguments"
   ]
  }
 ],
 "metadata": {
  "kernelspec": {
   "display_name": "Python [conda env:base] *",
   "language": "python",
   "name": "conda-base-py"
  },
  "language_info": {
   "codemirror_mode": {
    "name": "ipython",
    "version": 3
   },
   "file_extension": ".py",
   "mimetype": "text/x-python",
   "name": "python",
   "nbconvert_exporter": "python",
   "pygments_lexer": "ipython3",
   "version": "3.13.5"
  }
 },
 "nbformat": 4,
 "nbformat_minor": 5
}
