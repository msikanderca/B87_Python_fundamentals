{
 "cells": [
  {
   "cell_type": "code",
   "execution_count": null,
   "id": "a926b625-520a-4094-8ec2-96150800c1d5",
   "metadata": {},
   "outputs": [],
   "source": [
    "Introduction to Python fundamentals"
   ]
  },
  {
   "cell_type": "code",
   "execution_count": null,
   "id": "9a4da6c1-ed16-45cf-9c53-f80f66a0e23c",
   "metadata": {},
   "outputs": [],
   "source": [
    "understanding the variables in python"
   ]
  },
  {
   "cell_type": "code",
   "execution_count": 2,
   "id": "ae311dce-7b73-4ae6-b5f7-7c09d15aa796",
   "metadata": {},
   "outputs": [],
   "source": [
    "x = 2\n",
    "y =3"
   ]
  },
  {
   "cell_type": "code",
   "execution_count": 6,
   "id": "68e2a1df-d75f-4207-bb03-dba8f4eb586f",
   "metadata": {},
   "outputs": [
    {
     "name": "stdout",
     "output_type": "stream",
     "text": [
      "5\n"
     ]
    }
   ],
   "source": [
    "z = x+ y\n",
    "print (z)"
   ]
  },
  {
   "cell_type": "code",
   "execution_count": null,
   "id": "a98bf7e9-905a-45d0-95ae-c36fae11d48f",
   "metadata": {},
   "outputs": [],
   "source": [
    "Rules for declaring the variables in python:\n"
   ]
  },
  {
   "cell_type": "code",
   "execution_count": null,
   "id": "4412802c-ce5c-4780-a749-74ad8434f470",
   "metadata": {},
   "outputs": [],
   "source": [
    "Rule 1 : no namespaces while declaring the variables names in python"
   ]
  },
  {
   "cell_type": "code",
   "execution_count": 7,
   "id": "ce7bc3e3-18e5-4206-b84e-acb822c28654",
   "metadata": {},
   "outputs": [
    {
     "ename": "SyntaxError",
     "evalue": "invalid syntax (3483849208.py, line 1)",
     "output_type": "error",
     "traceback": [
      "\u001b[1;36m  Cell \u001b[1;32mIn[7], line 1\u001b[1;36m\u001b[0m\n\u001b[1;33m    first name = 'Masarrath'\u001b[0m\n\u001b[1;37m          ^\u001b[0m\n\u001b[1;31mSyntaxError\u001b[0m\u001b[1;31m:\u001b[0m invalid syntax\n"
     ]
    }
   ],
   "source": [
    "first name = 'Masarrath'\n",
    "print (first name)"
   ]
  },
  {
   "cell_type": "code",
   "execution_count": 8,
   "id": "b9f70d98-61b5-46fa-be38-7d048918cd86",
   "metadata": {},
   "outputs": [
    {
     "name": "stdout",
     "output_type": "stream",
     "text": [
      "Masarrath\n"
     ]
    }
   ],
   "source": [
    "firstname = 'Masarrath'\n",
    "print (firstname)"
   ]
  },
  {
   "cell_type": "code",
   "execution_count": null,
   "id": "34f330d4-afc8-49e6-b187-122168a82bf7",
   "metadata": {},
   "outputs": [],
   "source": [
    "Rule 2: A variable name should not start with a number\n"
   ]
  },
  {
   "cell_type": "code",
   "execution_count": 9,
   "id": "daec173b-68a6-4ebf-b94e-c5fb1c34d079",
   "metadata": {},
   "outputs": [
    {
     "ename": "SyntaxError",
     "evalue": "invalid decimal literal (174495292.py, line 1)",
     "output_type": "error",
     "traceback": [
      "\u001b[1;36m  Cell \u001b[1;32mIn[9], line 1\u001b[1;36m\u001b[0m\n\u001b[1;33m    1name = 'abc'\u001b[0m\n\u001b[1;37m    ^\u001b[0m\n\u001b[1;31mSyntaxError\u001b[0m\u001b[1;31m:\u001b[0m invalid decimal literal\n"
     ]
    }
   ],
   "source": [
    "1name = 'abc'\n",
    "print (1name)"
   ]
  },
  {
   "cell_type": "code",
   "execution_count": 12,
   "id": "f5ce7b84-6e09-442e-9331-fc678885169f",
   "metadata": {},
   "outputs": [
    {
     "name": "stdout",
     "output_type": "stream",
     "text": [
      "abc\n"
     ]
    }
   ],
   "source": [
    "name1 = 'abc'\n",
    "print (name1)"
   ]
  },
  {
   "cell_type": "raw",
   "id": "647e0799-0c21-41a3-a9c9-87d9f05641a6",
   "metadata": {},
   "source": [
    "Rule 3: a variable name should not contain special character\n",
    "!@#$%^&*"
   ]
  },
  {
   "cell_type": "code",
   "execution_count": 13,
   "id": "5f5e3245-f786-46ae-9e8a-8e43a9c5e52f",
   "metadata": {},
   "outputs": [
    {
     "ename": "SyntaxError",
     "evalue": "invalid syntax (3753139134.py, line 1)",
     "output_type": "error",
     "traceback": [
      "\u001b[1;36m  Cell \u001b[1;32mIn[13], line 1\u001b[1;36m\u001b[0m\n\u001b[1;33m    name@ = 'www'\u001b[0m\n\u001b[1;37m          ^\u001b[0m\n\u001b[1;31mSyntaxError\u001b[0m\u001b[1;31m:\u001b[0m invalid syntax\n"
     ]
    }
   ],
   "source": [
    "name@ = 'www'\n",
    "print (name@)"
   ]
  },
  {
   "cell_type": "code",
   "execution_count": null,
   "id": "e895f519-6b82-4397-bed9-854e2109d99e",
   "metadata": {},
   "outputs": [],
   "source": [
    "Introduction to Data Types in Python:"
   ]
  },
  {
   "cell_type": "code",
   "execution_count": null,
   "id": "0312ecf6-390c-4aa4-b385-d1de0901a31b",
   "metadata": {},
   "outputs": [],
   "source": [
    "1. strings - str\n",
    "2. Numbers - intergers - int , floats - float (decimal -0.1,0.2)\n",
    "3. lists - list\n",
    "4. tuples - tuple\n",
    "5. dictionaries - dict"
   ]
  },
  {
   "cell_type": "code",
   "execution_count": null,
   "id": "329296fb-7df3-4b1c-a997-ca13b60f6cb5",
   "metadata": {},
   "outputs": [],
   "source": [
    "note : python is case sensitive programming language"
   ]
  },
  {
   "cell_type": "code",
   "execution_count": null,
   "id": "f28cf947-6252-4b84-b799-dd5233ba3331",
   "metadata": {},
   "outputs": [],
   "source": [
    "Classification of DataTypes in python:"
   ]
  },
  {
   "cell_type": "code",
   "execution_count": null,
   "id": "70315c27-2308-45d8-930a-3250a014476d",
   "metadata": {},
   "outputs": [],
   "source": [
    "1. mutable datatypes - which we can edit/alter- flexible in nature\n",
    "2. immutable datatypes - which we cannot edit- fixed in nature"
   ]
  },
  {
   "cell_type": "code",
   "execution_count": null,
   "id": "2179148b-9dad-4456-955e-4b6464a16016",
   "metadata": {},
   "outputs": [],
   "source": [
    "Introduction to String datatype:\n",
    "definition:  A string is a series of characters decalred in quotes.\n",
    "classification: It is classfied as immutable datatype.\n",
    "To declare-- 2 methods:\n",
    "1. single quote\n",
    "2. Double quote"
   ]
  },
  {
   "cell_type": "code",
   "execution_count": 14,
   "id": "4052681d-fce4-46b9-96bd-bc8d60778664",
   "metadata": {},
   "outputs": [
    {
     "name": "stdout",
     "output_type": "stream",
     "text": [
      "john\n"
     ]
    }
   ],
   "source": [
    "name ='john' # single quote\n",
    "print (name)"
   ]
  },
  {
   "cell_type": "code",
   "execution_count": 15,
   "id": "de2b43f5-2292-4815-b411-10e4a7465ef5",
   "metadata": {},
   "outputs": [
    {
     "name": "stdout",
     "output_type": "stream",
     "text": [
      "Alice\n"
     ]
    }
   ],
   "source": [
    "name2 =\"Alice\" # doublequote\n",
    "print (name2)"
   ]
  },
  {
   "cell_type": "code",
   "execution_count": null,
   "id": "9790e8fa-8ab0-42c2-9f1b-b62b41ff7f1d",
   "metadata": {},
   "outputs": [],
   "source": [
    "Introduction to String methods:"
   ]
  },
  {
   "cell_type": "code",
   "execution_count": 16,
   "id": "26889e79-fae5-4759-9fec-4a09e10beb4c",
   "metadata": {},
   "outputs": [
    {
     "data": {
      "text/plain": [
       "str"
      ]
     },
     "execution_count": 16,
     "metadata": {},
     "output_type": "execute_result"
    }
   ],
   "source": [
    "type(name)"
   ]
  },
  {
   "cell_type": "code",
   "execution_count": 17,
   "id": "3c00831f-7db1-44f3-8d27-efd594ecfeb4",
   "metadata": {},
   "outputs": [
    {
     "data": {
      "text/plain": [
       "str"
      ]
     },
     "execution_count": 17,
     "metadata": {},
     "output_type": "execute_result"
    }
   ],
   "source": [
    "type(name2)"
   ]
  },
  {
   "cell_type": "code",
   "execution_count": 19,
   "id": "1be2a7e4-d5cd-4f9e-af41-5aac928c1add",
   "metadata": {},
   "outputs": [
    {
     "name": "stdout",
     "output_type": "stream",
     "text": [
      "alice elsa\n"
     ]
    }
   ],
   "source": [
    "fullname = 'alice elsa'\n",
    "print (fullname)"
   ]
  },
  {
   "cell_type": "code",
   "execution_count": 20,
   "id": "1bf07d7c-ce3b-46c0-b83b-8ec8449edc34",
   "metadata": {},
   "outputs": [
    {
     "name": "stdout",
     "output_type": "stream",
     "text": [
      "Alice Elsa\n"
     ]
    }
   ],
   "source": [
    "print (fullname.title()) # to correct format\n"
   ]
  },
  {
   "cell_type": "code",
   "execution_count": 21,
   "id": "67f69d9c-f56d-4403-b880-6c5e9bdb4685",
   "metadata": {},
   "outputs": [
    {
     "name": "stdout",
     "output_type": "stream",
     "text": [
      "ALICE ELSA\n"
     ]
    }
   ],
   "source": [
    "print (fullname.upper()) # in uppercase"
   ]
  },
  {
   "cell_type": "code",
   "execution_count": 22,
   "id": "ea5b476f-4acb-4814-afc1-949ff25cdfc5",
   "metadata": {},
   "outputs": [
    {
     "name": "stdout",
     "output_type": "stream",
     "text": [
      "alice elsa\n"
     ]
    }
   ],
   "source": [
    "print (fullname.lower()) # to lowercase"
   ]
  },
  {
   "cell_type": "code",
   "execution_count": null,
   "id": "1accbbe6-78d5-4e58-85dd-4e024fc05726",
   "metadata": {},
   "outputs": [],
   "source": []
  }
 ],
 "metadata": {
  "kernelspec": {
   "display_name": "Python [conda env:base] *",
   "language": "python",
   "name": "conda-base-py"
  },
  "language_info": {
   "codemirror_mode": {
    "name": "ipython",
    "version": 3
   },
   "file_extension": ".py",
   "mimetype": "text/x-python",
   "name": "python",
   "nbconvert_exporter": "python",
   "pygments_lexer": "ipython3",
   "version": "3.13.5"
  }
 },
 "nbformat": 4,
 "nbformat_minor": 5
}
