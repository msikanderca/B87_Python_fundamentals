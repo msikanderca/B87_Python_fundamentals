{
 "cells": [
  {
   "cell_type": "code",
   "execution_count": 5,
   "id": "b21a7b96-1604-497b-b4da-d39539e1cd59",
   "metadata": {},
   "outputs": [],
   "source": [
    "def describe_pet(animal_type,pet_name):\n",
    "    \"\"\"describe the information about the pet\"\"\"\n",
    "    print (f\"\\nI have a {animal_type}\")\n",
    "    print (f\"my {animal_type}'s name is {pet_name}\")"
   ]
  },
  {
   "cell_type": "code",
   "execution_count": 7,
   "id": "8ec21671-05f7-441a-83ff-4dc73833ab23",
   "metadata": {},
   "outputs": [
    {
     "name": "stdout",
     "output_type": "stream",
     "text": [
      "\n",
      "I have a dog\n",
      "my dog's name is bruno\n"
     ]
    }
   ],
   "source": [
    "describe_pet('dog','bruno')"
   ]
  },
  {
   "cell_type": "code",
   "execution_count": 8,
   "id": "ad72f1f6-a632-4537-9943-97e9f9e8994a",
   "metadata": {},
   "outputs": [
    {
     "ename": "TypeError",
     "evalue": "describe_pet() missing 1 required positional argument: 'pet_name'",
     "output_type": "error",
     "traceback": [
      "\u001b[1;31m---------------------------------------------------------------------------\u001b[0m",
      "\u001b[1;31mTypeError\u001b[0m                                 Traceback (most recent call last)",
      "Cell \u001b[1;32mIn[8], line 1\u001b[0m\n\u001b[1;32m----> 1\u001b[0m describe_pet(\u001b[38;5;124m'\u001b[39m\u001b[38;5;124mrex\u001b[39m\u001b[38;5;124m'\u001b[39m)\n",
      "\u001b[1;31mTypeError\u001b[0m: describe_pet() missing 1 required positional argument: 'pet_name'"
     ]
    }
   ],
   "source": [
    "describe_pet('rex')"
   ]
  },
  {
   "cell_type": "code",
   "execution_count": null,
   "id": "e89cd68f-1ead-4ac0-9a1c-58769688bb36",
   "metadata": {},
   "outputs": [],
   "source": [
    "# default arguments"
   ]
  },
  {
   "cell_type": "code",
   "execution_count": 10,
   "id": "287b7e90-6b7b-4bf6-b954-21039acf89bb",
   "metadata": {},
   "outputs": [],
   "source": [
    "def describe_pet(pet_name, animal_type = 'dog'):\n",
    "    \"\"\"describe the information about the pet\"\"\"\n",
    "    print (f\"\\nI have a {animal_type}\")\n",
    "    print (f\"my {animal_type}'s name is {pet_name}\")"
   ]
  },
  {
   "cell_type": "code",
   "execution_count": 11,
   "id": "ba5bf191-3186-41ab-bd22-766a7208bf93",
   "metadata": {},
   "outputs": [
    {
     "name": "stdout",
     "output_type": "stream",
     "text": [
      "\n",
      "I have a dog\n",
      "my dog's name is rex\n"
     ]
    }
   ],
   "source": [
    "describe_pet('rex')"
   ]
  },
  {
   "cell_type": "code",
   "execution_count": 12,
   "id": "deedc8fb-2fa4-4e24-89b7-89cffc0dd98a",
   "metadata": {},
   "outputs": [
    {
     "name": "stdout",
     "output_type": "stream",
     "text": [
      "\n",
      "I have a cat\n",
      "my cat's name is bruno\n"
     ]
    }
   ],
   "source": [
    "describe_pet('bruno','cat')"
   ]
  },
  {
   "cell_type": "code",
   "execution_count": null,
   "id": "d6cb0d29-b2c4-4456-bb4a-3af226a31c4d",
   "metadata": {},
   "outputs": [],
   "source": [
    "Returning a simple value:\n",
    "# take a firstname and lastname and return it with neatly formatted name"
   ]
  },
  {
   "cell_type": "code",
   "execution_count": 13,
   "id": "06602cdf-7446-44d6-a395-c68c783b0eec",
   "metadata": {},
   "outputs": [],
   "source": [
    "def get_formatted_name(first_name,last_name):\n",
    "\t\"\"\"\"return a fullname,neatly formatted\"\"\"\n",
    "\tfull_name = f\"{first_name} {last_name}\"\n",
    "\treturn full_name.title()"
   ]
  },
  {
   "cell_type": "code",
   "execution_count": 14,
   "id": "e11c8211-8ea2-405a-a873-4a0ade761c9c",
   "metadata": {},
   "outputs": [],
   "source": [
    "person = get_formatted_name('alice','robert')"
   ]
  },
  {
   "cell_type": "code",
   "execution_count": 15,
   "id": "86f0daf1-d87f-49e9-981e-3fb66b2a7595",
   "metadata": {},
   "outputs": [
    {
     "name": "stdout",
     "output_type": "stream",
     "text": [
      "Alice Robert\n"
     ]
    }
   ],
   "source": [
    "print (person)"
   ]
  },
  {
   "cell_type": "code",
   "execution_count": null,
   "id": "a94574fb-9b9f-42ec-9508-23a81e474dbd",
   "metadata": {},
   "outputs": [],
   "source": [
    "passing Arbitary no of arguments:"
   ]
  },
  {
   "cell_type": "code",
   "execution_count": 17,
   "id": "788f048c-2de2-4cef-90a9-17bdaa760fb8",
   "metadata": {},
   "outputs": [],
   "source": [
    "def make_pizza(toppings):\n",
    "\t\"\"\"print list of toppings that has been requested\"\"\"\n",
    "\tprint(toppings)"
   ]
  },
  {
   "cell_type": "code",
   "execution_count": 18,
   "id": "a1e5e30a-2621-48e4-b0a6-886be2025fd3",
   "metadata": {},
   "outputs": [
    {
     "name": "stdout",
     "output_type": "stream",
     "text": [
      "olives\n"
     ]
    }
   ],
   "source": [
    "make_pizza('olives')"
   ]
  },
  {
   "cell_type": "code",
   "execution_count": 19,
   "id": "c82b72aa-14a4-4670-8d7c-7a0375fe24e9",
   "metadata": {},
   "outputs": [
    {
     "ename": "TypeError",
     "evalue": "make_pizza() takes 1 positional argument but 2 were given",
     "output_type": "error",
     "traceback": [
      "\u001b[1;31m---------------------------------------------------------------------------\u001b[0m",
      "\u001b[1;31mTypeError\u001b[0m                                 Traceback (most recent call last)",
      "Cell \u001b[1;32mIn[19], line 1\u001b[0m\n\u001b[1;32m----> 1\u001b[0m make_pizza(\u001b[38;5;124m'\u001b[39m\u001b[38;5;124molives\u001b[39m\u001b[38;5;124m'\u001b[39m,\u001b[38;5;124m'\u001b[39m\u001b[38;5;124mcorn\u001b[39m\u001b[38;5;124m'\u001b[39m)\n",
      "\u001b[1;31mTypeError\u001b[0m: make_pizza() takes 1 positional argument but 2 were given"
     ]
    }
   ],
   "source": [
    "make_pizza('olives','corn')"
   ]
  },
  {
   "cell_type": "code",
   "execution_count": 20,
   "id": "98410078-09ef-4c98-b9c7-e69974adc12e",
   "metadata": {},
   "outputs": [
    {
     "ename": "TypeError",
     "evalue": "make_pizza() takes 1 positional argument but 3 were given",
     "output_type": "error",
     "traceback": [
      "\u001b[1;31m---------------------------------------------------------------------------\u001b[0m",
      "\u001b[1;31mTypeError\u001b[0m                                 Traceback (most recent call last)",
      "Cell \u001b[1;32mIn[20], line 1\u001b[0m\n\u001b[1;32m----> 1\u001b[0m make_pizza(\u001b[38;5;124m'\u001b[39m\u001b[38;5;124molives\u001b[39m\u001b[38;5;124m'\u001b[39m,\u001b[38;5;124m'\u001b[39m\u001b[38;5;124mcorn\u001b[39m\u001b[38;5;124m'\u001b[39m,\u001b[38;5;124m'\u001b[39m\u001b[38;5;124monion\u001b[39m\u001b[38;5;124m'\u001b[39m)\n",
      "\u001b[1;31mTypeError\u001b[0m: make_pizza() takes 1 positional argument but 3 were given"
     ]
    }
   ],
   "source": [
    "make_pizza('olives','corn','onion')"
   ]
  },
  {
   "cell_type": "code",
   "execution_count": 21,
   "id": "3ea022a2-60f3-4917-8afc-d56b62b09db5",
   "metadata": {},
   "outputs": [],
   "source": [
    "def make_pizza(*toppings):   # passing arbitary parameter\n",
    "\t\"\"\"print list of toppings that has been requested\"\"\"\n",
    "\tprint(toppings)"
   ]
  },
  {
   "cell_type": "code",
   "execution_count": 22,
   "id": "b22ef492-3a92-4e07-9f89-5ced575baa27",
   "metadata": {},
   "outputs": [
    {
     "name": "stdout",
     "output_type": "stream",
     "text": [
      "('olives',)\n"
     ]
    }
   ],
   "source": [
    "make_pizza('olives')"
   ]
  },
  {
   "cell_type": "code",
   "execution_count": 23,
   "id": "96c700c7-d6ba-4f28-9639-8fc4792979d4",
   "metadata": {},
   "outputs": [
    {
     "name": "stdout",
     "output_type": "stream",
     "text": [
      "('olives', 'corn')\n"
     ]
    }
   ],
   "source": [
    "make_pizza('olives','corn')"
   ]
  },
  {
   "cell_type": "code",
   "execution_count": 24,
   "id": "4366d01f-8dd9-4c15-9a3f-b19a25fb9c00",
   "metadata": {},
   "outputs": [
    {
     "name": "stdout",
     "output_type": "stream",
     "text": [
      "('olives', 'corn', 'onion')\n"
     ]
    }
   ],
   "source": [
    "make_pizza('olives','corn','onion')"
   ]
  },
  {
   "cell_type": "code",
   "execution_count": 25,
   "id": "66a156e8-6827-4762-ab06-9cd9cb1f9cef",
   "metadata": {},
   "outputs": [],
   "source": [
    "def make_pizza(*toppings):\n",
    "\t\"\"\"summarize the pizza that i want to make\"\"\"\n",
    "\tprint(\"\\nMaking the pizza with the below toppings\")\n",
    "\tfor a in toppings:\n",
    "\t\tprint(f\"-{a}\")"
   ]
  },
  {
   "cell_type": "code",
   "execution_count": 26,
   "id": "cbf6c2c8-9fe2-4e98-b872-d18890727aff",
   "metadata": {},
   "outputs": [
    {
     "name": "stdout",
     "output_type": "stream",
     "text": [
      "\n",
      "Making the pizza with the below toppings\n",
      "-olives\n",
      "-corn\n",
      "-onion\n"
     ]
    }
   ],
   "source": [
    "make_pizza('olives','corn','onion')"
   ]
  },
  {
   "cell_type": "code",
   "execution_count": null,
   "id": "5668aa96-e009-41bc-8e35-b0f8d90a00ee",
   "metadata": {},
   "outputs": [],
   "source": [
    "mixing positional and aritary arguments"
   ]
  },
  {
   "cell_type": "code",
   "execution_count": 30,
   "id": "a0e11d2b-18d9-4606-89bd-4ab83107792a",
   "metadata": {},
   "outputs": [],
   "source": [
    "def make_pizza(size,*toppings):\n",
    "\t\"\"\"summarize the pizza that i want to make\"\"\"\n",
    "\tprint(f\"\\nMaking a {size} inch pizza with the below toppings\")\n",
    "\tfor a in toppings:\n",
    "\t\tprint(f\"-{a}\")"
   ]
  },
  {
   "cell_type": "code",
   "execution_count": 31,
   "id": "63ab7f6e-89a9-4b06-8fdc-c54405ead908",
   "metadata": {},
   "outputs": [
    {
     "name": "stdout",
     "output_type": "stream",
     "text": [
      "\n",
      "Making a 12 inch pizza with the below toppings\n",
      "-olives\n",
      "-corn\n"
     ]
    }
   ],
   "source": [
    "make_pizza(12,'olives','corn')"
   ]
  }
 ],
 "metadata": {
  "kernelspec": {
   "display_name": "Python [conda env:base] *",
   "language": "python",
   "name": "conda-base-py"
  },
  "language_info": {
   "codemirror_mode": {
    "name": "ipython",
    "version": 3
   },
   "file_extension": ".py",
   "mimetype": "text/x-python",
   "name": "python",
   "nbconvert_exporter": "python",
   "pygments_lexer": "ipython3",
   "version": "3.13.5"
  }
 },
 "nbformat": 4,
 "nbformat_minor": 5
}
